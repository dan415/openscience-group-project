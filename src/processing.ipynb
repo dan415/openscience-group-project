{
 "cells": [
  {
   "cell_type": "code",
   "execution_count": 1,
   "metadata": {
    "collapsed": true,
    "ExecuteTime": {
     "end_time": "2023-05-10T13:40:23.395352527Z",
     "start_time": "2023-05-10T13:40:21.728489742Z"
    }
   },
   "outputs": [],
   "source": [
    "from grobid.client import GrobidClient\n",
    "import numpy as np\n",
    "import pandas as pd\n",
    "from sentence_transformers import SentenceTransformer\n",
    "import xml.etree.ElementTree as ET\n",
    "import os"
   ]
  },
  {
   "cell_type": "markdown",
   "source": [
    "<h1>Modelo para tokenizar</h1>"
   ],
   "metadata": {
    "collapsed": false
   }
  },
  {
   "cell_type": "code",
   "execution_count": 2,
   "outputs": [],
   "source": [
    "model = SentenceTransformer(\"jamescalam/minilm-arxiv-encoder\")"
   ],
   "metadata": {
    "collapsed": false,
    "ExecuteTime": {
     "end_time": "2023-05-08T08:04:37.908946906Z",
     "start_time": "2023-05-08T08:04:37.448408890Z"
    }
   }
  },
  {
   "cell_type": "markdown",
   "source": [
    "<h1>Obtener las clases y propiedades con grobid</h1>"
   ],
   "metadata": {
    "collapsed": false
   }
  },
  {
   "cell_type": "code",
   "execution_count": 1,
   "outputs": [],
   "source": [
    "from src.processor import PaperProcessor\n",
    "\n",
    "input_path = \"../res/datasets/raw/\"\n",
    "output_path = \"../res/datasets/grobid/\"\n",
    "\n",
    "processor = PaperProcessor(output_path=output_path)\n",
    "papers = processor.process_folder(input_path)"
   ],
   "metadata": {
    "collapsed": false,
    "ExecuteTime": {
     "end_time": "2023-05-11T16:52:31.070011752Z",
     "start_time": "2023-05-11T16:51:32.426219688Z"
    }
   }
  },
  {
   "cell_type": "code",
   "execution_count": 3,
   "outputs": [
    {
     "data": {
      "text/plain": "'Departments of Computer Science and Statistical Sciences'"
     },
     "execution_count": 3,
     "metadata": {},
     "output_type": "execute_result"
    }
   ],
   "source": [
    "papers[29].authors[0].affiliation.name"
   ],
   "metadata": {
    "collapsed": false,
    "ExecuteTime": {
     "end_time": "2023-05-11T16:55:47.088436086Z",
     "start_time": "2023-05-11T16:55:47.086013268Z"
    }
   }
  },
  {
   "cell_type": "markdown",
   "source": [
    "<h1>Obtener las clases y propiedades desde los xml ya procesados</h1>"
   ],
   "metadata": {
    "collapsed": false
   }
  },
  {
   "cell_type": "code",
   "execution_count": 1,
   "outputs": [],
   "source": [
    "from src.processor import PaperProcessor\n",
    "\n",
    "input_path = \"../res/datasets/raw/\"\n",
    "output_path = \"../res/datasets/grobid/\"\n",
    "\n",
    "processor = PaperProcessor(output_path=output_path)\n",
    "papers = processor.process_folder_from_xml(pdf_path=input_path)"
   ],
   "metadata": {
    "collapsed": false,
    "ExecuteTime": {
     "end_time": "2023-05-11T17:22:23.294014752Z",
     "start_time": "2023-05-11T17:22:23.166247416Z"
    }
   }
  },
  {
   "cell_type": "code",
   "execution_count": 3,
   "outputs": [
    {
     "data": {
      "text/plain": "'College of Electronics and Information Engineering'"
     },
     "execution_count": 3,
     "metadata": {},
     "output_type": "execute_result"
    }
   ],
   "source": [
    "papers[29].authors[0].affiliation.name"
   ],
   "metadata": {
    "collapsed": false,
    "ExecuteTime": {
     "end_time": "2023-05-11T17:22:31.795564804Z",
     "start_time": "2023-05-11T17:22:31.784874575Z"
    }
   }
  },
  {
   "cell_type": "code",
   "execution_count": null,
   "outputs": [],
   "source": [],
   "metadata": {
    "collapsed": false
   }
  }
 ],
 "metadata": {
  "kernelspec": {
   "display_name": "Python 3",
   "language": "python",
   "name": "python3"
  },
  "language_info": {
   "codemirror_mode": {
    "name": "ipython",
    "version": 2
   },
   "file_extension": ".py",
   "mimetype": "text/x-python",
   "name": "python",
   "nbconvert_exporter": "python",
   "pygments_lexer": "ipython2",
   "version": "2.7.6"
  }
 },
 "nbformat": 4,
 "nbformat_minor": 0
}
